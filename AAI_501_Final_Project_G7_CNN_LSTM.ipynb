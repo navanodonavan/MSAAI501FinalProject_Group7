{
 "cells": [
  {
   "cell_type": "code",
   "execution_count": 2,
   "id": "d413816f-abe3-41a8-b03a-0b5042218cdd",
   "metadata": {},
   "outputs": [],
   "source": [
    "# Import Libraries\n",
    "import os\n",
    "import librosa\n",
    "import numpy as np\n",
    "import pandas as pd\n",
    "from sklearn.preprocessing import LabelEncoder\n",
    "from sklearn.model_selection import train_test_split\n",
    "import torch\n",
    "import torch.nn as nn\n",
    "import torch.optim as optim\n",
    "from torch.utils.data import DataLoader, TensorDataset"
   ]
  },
  {
   "cell_type": "code",
   "execution_count": 5,
   "id": "b626f5d3-959b-464b-8684-a465604d6b86",
   "metadata": {},
   "outputs": [
    {
     "name": "stdout",
     "output_type": "stream",
     "text": [
      "                                               Features Label\n",
      "0     [[-589.87604, -507.21228, -465.8268, -460.9645...   ANG\n",
      "1     [[-494.1741, -463.85815, -459.60843, -453.1035...   DIS\n",
      "2     [[-466.0973, -458.1281, -459.86917, -459.22717...   FEA\n",
      "3     [[-465.77594, -436.83945, -431.25726, -436.799...   HAP\n",
      "4     [[-484.9637, -454.3514, -450.37292, -445.42505...   NEU\n",
      "...                                                 ...   ...\n",
      "7437  [[-541.3534, -512.39343, -513.9822, -510.95755...   DIS\n",
      "7438  [[-500.56378, -506.89853, -517.6963, -514.3520...   FEA\n",
      "7439  [[-546.4652, -513.5806, -509.9367, -507.84128,...   HAP\n",
      "7440  [[-549.4096, -518.13605, -514.4069, -513.1063,...   NEU\n",
      "7441  [[-555.97235, -515.94165, -507.71866, -508.487...   SAD\n",
      "\n",
      "[7442 rows x 2 columns]\n"
     ]
    }
   ],
   "source": [
    "# Function to extract MFCCs with time dimension\n",
    "def extract_mfcc_series(file_path, n_mfcc=13, max_len=200):\n",
    "    audio, sample_rate = librosa.load(file_path, sr=None)\n",
    "    mfcc = librosa.feature.mfcc(y=audio, sr=sample_rate, n_mfcc=n_mfcc)\n",
    "    \n",
    "    # Pad or truncate MFCCs to a fixed length\n",
    "    if mfcc.shape[1] < max_len:\n",
    "        mfcc = np.pad(mfcc, ((0, 0), (0, max_len - mfcc.shape[1])), mode='constant')\n",
    "    else:\n",
    "        mfcc = mfcc[:, :max_len]\n",
    "    \n",
    "    return mfcc\n",
    "\n",
    "# Directory containing audio files\n",
    "audio_speech = 'AudioWav'\n",
    "\n",
    "# Extract features and labels\n",
    "features = []\n",
    "labels = []\n",
    "\n",
    "# Loop over each file in the directory\n",
    "# Extract features for each file\n",
    "for file_name in os.listdir(audio_speech):\n",
    "    if file_name.endswith('.wav'):\n",
    "        file_path = os.path.join(audio_speech, file_name)\n",
    "        label = file_name.split('_')[2]  # extract the emotion label\n",
    "        mfcc_series = extract_mfcc_series(file_path)\n",
    "        features.append(mfcc_series)\n",
    "        labels.append(label)\n",
    "\n",
    "# Convert to DataFrame\n",
    "features_df = pd.DataFrame({'Features': features, 'Label': labels})\n",
    "\n",
    "# Expand feature columns for model compatibility\n",
    "print(features_df)"
   ]
  },
  {
   "cell_type": "code",
   "execution_count": 6,
   "id": "324255e9-46ce-4487-9eab-804c80c514b7",
   "metadata": {},
   "outputs": [],
   "source": [
    "# Encode labels\n",
    "le = LabelEncoder()\n",
    "df['Label'] = le.fit_transform(df['Label'])\n",
    "X = np.array(df['Features'].tolist())\n",
    "y = np.array(df['Label'].tolist())\n",
    "\n",
    "# Convert to tensors\n",
    "X_tensor = torch.tensor(X, dtype=torch.float32)\n",
    "y_tensor = torch.tensor(y, dtype=torch.long)\n",
    "\n",
    "# Create DataLoader\n",
    "dataset = TensorDataset(X_tensor, y_tensor)\n",
    "train_loader = DataLoader(dataset, batch_size=32, shuffle=True)"
   ]
  },
  {
   "cell_type": "code",
   "execution_count": 7,
   "id": "a2a537f7-5e6a-4388-a447-3399f75b926f",
   "metadata": {},
   "outputs": [],
   "source": [
    "# Define the CNN + LSTM model\n",
    "class CNN_LSTM(nn.Module):\n",
    "    def __init__(self, n_mfcc, max_len, num_classes):\n",
    "        super(CNN_LSTM, self).__init__()\n",
    "        \n",
    "        # CNN layers\n",
    "        self.conv1 = nn.Conv2d(1, 32, kernel_size=(3, 3), padding=(1, 1))\n",
    "        self.conv2 = nn.Conv2d(32, 64, kernel_size=(3, 3), padding=(1, 1))\n",
    "        self.pool = nn.MaxPool2d((2, 2))\n",
    "        self.dropout = nn.Dropout(0.3)\n",
    "        \n",
    "        # Calculate the output dimensions after CNN layers\n",
    "        # Assuming input (batch_size, 1, n_mfcc, max_len), i.e., (batch_size, 1, 13, 200)\n",
    "        cnn_out_height = n_mfcc // 4  # Pooling reduces height by a factor of 2 twice\n",
    "        cnn_out_width = max_len // 4  # Pooling reduces width by a factor of 2 twice\n",
    "        lstm_input_size = 64 * cnn_out_height  # 64 channels * reduced height\n",
    "        \n",
    "        # LSTM layers\n",
    "        self.lstm = nn.LSTM(input_size=lstm_input_size, hidden_size=128, num_layers=2, batch_first=True)\n",
    "        \n",
    "        # Fully connected layer\n",
    "        self.fc = nn.Linear(128, num_classes)\n",
    "        \n",
    "    def forward(self, x):\n",
    "        # CNN layers\n",
    "        x = x.unsqueeze(1)  # Add channel dimension for CNN (batch, 1, n_mfcc, max_len)\n",
    "        x = self.pool(torch.relu(self.conv1(x)))\n",
    "        x = self.pool(torch.relu(self.conv2(x)))\n",
    "        \n",
    "        # Reshape for LSTM (flatten height dimension only)\n",
    "        batch_size, _, height, width = x.size()\n",
    "        x = x.view(batch_size, width, -1)  # (batch, sequence_length=width, features=channels*height)\n",
    "        \n",
    "        # LSTM layers\n",
    "        x, _ = self.lstm(x)\n",
    "        x = x[:, -1, :]  # Take the output from the last time step\n",
    "        \n",
    "        # Fully connected layer\n",
    "        x = self.fc(x)\n",
    "        return x\n",
    "\n"
   ]
  },
  {
   "cell_type": "code",
   "execution_count": 8,
   "id": "5dec498a-0fda-4962-a32e-a9e6aced3cfc",
   "metadata": {},
   "outputs": [
    {
     "name": "stdout",
     "output_type": "stream",
     "text": [
      "Epoch [1/20], Loss: 1.2717\n",
      "Epoch [2/20], Loss: 1.1733\n",
      "Epoch [3/20], Loss: 1.4857\n",
      "Epoch [4/20], Loss: 1.3520\n",
      "Epoch [5/20], Loss: 1.0388\n",
      "Epoch [6/20], Loss: 1.2110\n",
      "Epoch [7/20], Loss: 1.0916\n",
      "Epoch [8/20], Loss: 1.1319\n",
      "Epoch [9/20], Loss: 0.7602\n",
      "Epoch [10/20], Loss: 0.7886\n",
      "Epoch [11/20], Loss: 1.0155\n",
      "Epoch [12/20], Loss: 0.9109\n",
      "Epoch [13/20], Loss: 0.4979\n",
      "Epoch [14/20], Loss: 0.4720\n",
      "Epoch [15/20], Loss: 0.7851\n",
      "Epoch [16/20], Loss: 0.3007\n",
      "Epoch [17/20], Loss: 0.4125\n",
      "Epoch [18/20], Loss: 0.1346\n",
      "Epoch [19/20], Loss: 0.4062\n",
      "Epoch [20/20], Loss: 0.1966\n",
      "Test Accuracy: 95.44%\n"
     ]
    }
   ],
   "source": [
    "# Model parameters\n",
    "n_mfcc = 13\n",
    "max_len = 200\n",
    "num_classes = len(le.classes_)\n",
    "model = CNN_LSTM(n_mfcc=n_mfcc, max_len=max_len, num_classes=num_classes)\n",
    "\n",
    "# Loss and optimizer\n",
    "criterion = nn.CrossEntropyLoss()\n",
    "optimizer = torch.optim.Adam(model.parameters(), lr=0.001)\n",
    "\n",
    "# Training loop\n",
    "num_epochs = 20\n",
    "for epoch in range(num_epochs):\n",
    "    model.train()\n",
    "    for X_batch, y_batch in train_loader:\n",
    "        # Forward pass\n",
    "        outputs = model(X_batch)\n",
    "        loss = criterion(outputs, y_batch)\n",
    "        \n",
    "        # Backward pass and optimization\n",
    "        optimizer.zero_grad()\n",
    "        loss.backward()\n",
    "        optimizer.step()\n",
    "    \n",
    "    print(f\"Epoch [{epoch+1}/{num_epochs}], Loss: {loss.item():.4f}\")\n",
    "\n",
    "# Set the model to evaluation mode to disable dropout layers\n",
    "model.eval()\n",
    "with torch.no_grad():\n",
    "    correct = 0\n",
    "    total = 0\n",
    "    for X_batch, y_batch in train_loader:\n",
    "        outputs = model(X_batch)\n",
    "        _, predicted = torch.max(outputs, 1)\n",
    "        total += y_batch.size(0)\n",
    "        correct += (predicted == y_batch).sum().item()\n",
    "\n",
    "    accuracy = 100 * correct / total\n",
    "    print(f\"Test Accuracy: {accuracy:.2f}%\")\n"
   ]
  },
  {
   "cell_type": "code",
   "execution_count": 9,
   "id": "452be7cc-2213-4324-8858-ce57b57ab4c0",
   "metadata": {},
   "outputs": [],
   "source": [
    "from sklearn.metrics import classification_report, confusion_matrix\n",
    "import seaborn as sns\n",
    "import matplotlib.pyplot as plt\n",
    "import numpy as np\n",
    "\n",
    "# Placeholder lists to store true and predicted labels\n",
    "y_true = []\n",
    "y_pred = []\n",
    "\n",
    "# Switch model to evaluation mode\n",
    "model.eval()\n",
    "with torch.no_grad():\n",
    "    for X_batch, y_batch in train_loader: \n",
    "        outputs = model(X_batch)\n",
    "        _, predicted = torch.max(outputs, 1)\n",
    "        \n",
    "        # Append true and predicted labels\n",
    "        y_true.extend(y_batch.cpu().numpy())\n",
    "        y_pred.extend(predicted.cpu().numpy())\n",
    "\n",
    "# Convert lists to numpy arrays\n",
    "y_true = np.array(y_true)\n",
    "y_pred = np.array(y_pred)"
   ]
  },
  {
   "cell_type": "code",
   "execution_count": 10,
   "id": "d7243b5e-e3a2-4df3-ba65-c5681d0f9ed3",
   "metadata": {},
   "outputs": [
    {
     "name": "stdout",
     "output_type": "stream",
     "text": [
      "              precision    recall  f1-score   support\n",
      "\n",
      "         ANG       0.96      0.98      0.97      1271\n",
      "         DIS       0.96      0.96      0.96      1271\n",
      "         FEA       0.96      0.94      0.95      1271\n",
      "         HAP       0.96      0.96      0.96      1271\n",
      "         NEU       0.95      0.95      0.95      1087\n",
      "         SAD       0.94      0.94      0.94      1271\n",
      "\n",
      "    accuracy                           0.95      7442\n",
      "   macro avg       0.95      0.95      0.95      7442\n",
      "weighted avg       0.95      0.95      0.95      7442\n",
      "\n"
     ]
    }
   ],
   "source": [
    "from sklearn.metrics import classification_report\n",
    "\n",
    "# Generate a classification report\n",
    "report = classification_report(y_true, y_pred, target_names=le.classes_)\n",
    "print(report)"
   ]
  },
  {
   "cell_type": "code",
   "execution_count": 11,
   "id": "791d2006-18df-4a29-acb5-f103b88d1296",
   "metadata": {},
   "outputs": [
    {
     "data": {
      "image/png": "[encoded data removed]",
      "text/plain": [
       "<Figure size 800x600 with 2 Axes>"
      ]
     },
     "metadata": {},
     "output_type": "display_data"
    }
   ],
   "source": [
    "# Generate a confusion matrix\n",
    "conf_matrix = confusion_matrix(y_true, y_pred)\n",
    "\n",
    "# Plot confusion matrix\n",
    "plt.figure(figsize=(8, 6))\n",
    "sns.heatmap(conf_matrix, annot=True, fmt=\"d\", cmap=\"Blues\", xticklabels=le.classes_, yticklabels=le.classes_)\n",
    "plt.xlabel(\"Predicted Label\")\n",
    "plt.ylabel(\"True Label\")\n",
    "plt.title(\"Confusion Matrix of Emotion Classification\")\n",
    "plt.show()"
   ]
  },
  {
   "cell_type": "code",
   "execution_count": null,
   "id": "e5df4829-6843-4d68-8e43-c9ee7652125b",
   "metadata": {},
   "outputs": [],
   "source": []
  }
 ],
 "metadata": {
  "kernelspec": {
   "display_name": "Python 3 (ipykernel)",
   "language": "python",
   "name": "python3"
  },
  "language_info": {
   "codemirror_mode": {
    "name": "ipython",
    "version": 3
   },
   "file_extension": ".py",
   "mimetype": "text/x-python",
   "name": "python",
   "nbconvert_exporter": "python",
   "pygments_lexer": "ipython3",
   "version": "3.12.3"
  }
 },
 "nbformat": 4,
 "nbformat_minor": 5
}
