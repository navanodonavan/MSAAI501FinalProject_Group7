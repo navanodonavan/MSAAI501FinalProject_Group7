{
 "cells": [
  {
   "cell_type": "code",
   "execution_count": 1,
   "id": "e4d15e55-28dc-43a3-b62e-ccb72f434639",
   "metadata": {},
   "outputs": [],
   "source": [
    "# Import Libraries\n",
    "import os\n",
    "import librosa\n",
    "import numpy as np\n",
    "import pandas as pd\n",
    "from sklearn.preprocessing import LabelEncoder\n",
    "from sklearn.model_selection import train_test_split\n",
    "import torch\n",
    "import torch.nn as nn\n",
    "import torch.optim as optim\n",
    "from torch.utils.data import DataLoader, TensorDataset"
   ]
  },
  {
   "cell_type": "code",
   "execution_count": 2,
   "id": "cfede33a-d736-4516-8c89-d123379435eb",
   "metadata": {},
   "outputs": [],
   "source": [
    "# Define audio files\n",
    "speech_audio = 'AudioWAV'"
   ]
  },
  {
   "cell_type": "code",
   "execution_count": 4,
   "id": "ac4cf1df-a1b3-4789-9ada-4fabae59e500",
   "metadata": {},
   "outputs": [],
   "source": [
    "# Function to extract features\n",
    "def extract_features(file_path):\n",
    "    # Load the audio file\n",
    "    audio, sample_rate = librosa.load(file_path, sr=None)\n",
    "    \n",
    "    # Extract MFCCs (13 coefficients is common)\n",
    "    mfccs = librosa.feature.mfcc(y=audio, sr=sample_rate, n_mfcc=13)\n",
    "    \n",
    "    # Take the mean of the MFCCs over time (flatten to 1D array)\n",
    "    mfccs_mean = np.mean(mfccs.T, axis=0)\n",
    "    \n",
    "    return mfccs_mean"
   ]
  },
  {
   "cell_type": "code",
   "execution_count": 5,
   "id": "9a6cd8b4-6873-4105-9076-a9d057d6ce26",
   "metadata": {},
   "outputs": [
    {
     "name": "stdout",
     "output_type": "stream",
     "text": [
      "            0           1          2          3          4          5  \\\n",
      "0 -306.027405   92.670235   8.491312  23.965403   7.477992  -5.759456   \n",
      "1 -346.399628   95.839119  10.516282  31.619215  15.872088  -6.845447   \n",
      "2 -321.420258   94.760910   8.155396  23.323240  11.719156  -7.116332   \n",
      "3 -303.303741   92.528893   4.231232  27.970133  10.869824 -11.878345   \n",
      "4 -335.495911  100.393311   9.384935  30.160906  11.466775  -3.333670   \n",
      "\n",
      "           6         7         8          9        10        11        12  \\\n",
      "0 -11.883089 -9.676736 -3.996747 -13.352564  0.408197 -9.709486 -6.127125   \n",
      "1  -6.629935 -4.978727 -5.310654 -10.283518 -2.534367 -7.255390 -6.153906   \n",
      "2  -8.534803 -4.996966 -4.994400 -13.706510 -3.357414 -8.454173 -6.561942   \n",
      "3 -10.095112 -7.149731 -7.651760 -17.085901 -0.201025 -8.867324 -9.357766   \n",
      "4  -8.350987 -9.757346 -6.079328 -12.109531  1.537681 -9.795646 -3.472060   \n",
      "\n",
      "  Label  \n",
      "0   ANG  \n",
      "1   DIS  \n",
      "2   FEA  \n",
      "3   HAP  \n",
      "4   NEU  \n"
     ]
    }
   ],
   "source": [
    "# Define an empty list to store features and labels\n",
    "features = []\n",
    "\n",
    "# Loop over each file in the directory\n",
    "for file_name in os.listdir(speech_audio):\n",
    "    if file_name.endswith('.wav'):  # Adjust if your audio files have a different extension\n",
    "        file_path = os.path.join(speech_audio, file_name)\n",
    "        \n",
    "        # Extract features and assume the emotion label is encoded in the file name\n",
    "        mfccs_mean = extract_features(file_path)\n",
    "        \n",
    "        # Example: Parse label from the filename (e.g., \"1001_WSI_SAD_XX.wav\" -> \"SAD\")\n",
    "        label = file_name.split('_')[2]\n",
    "        \n",
    "        # Append features and label\n",
    "        features.append([mfccs_mean, label])\n",
    "\n",
    "# Convert to DataFrame\n",
    "df = pd.DataFrame(features, columns=['Features', 'Label'])\n",
    "\n",
    "# Expand feature columns for model compatibility\n",
    "features_df = pd.DataFrame(df['Features'].to_list())\n",
    "features_df['Label'] = df['Label']\n",
    "print(features_df.head())"
   ]
  },
  {
   "cell_type": "code",
   "execution_count": 6,
   "id": "82fe52e4-82f8-4c3b-967d-9ab45bff9eb8",
   "metadata": {},
   "outputs": [],
   "source": [
    "# Step 1: Encode the labels\n",
    "# Initialize the LabelEncoder, which will convert categorical labels (e.g., emotions like 'Happy', 'Sad') into numeric codes.\n",
    "le = LabelEncoder()\n",
    "\n",
    "# Apply the LabelEncoder to the 'Label' column in the features DataFrame.\n",
    "features_df['Label'] = le.fit_transform(features_df['Label'])\n",
    "\n",
    "# Step 2: Separate features and labels\n",
    "X = features_df.drop(columns=['Label']).values  # Convert to NumPy array for model compatibility\n",
    "\n",
    "# Extract the target variable (y) as a separate array containing only the encoded labels.\n",
    "y = features_df['Label'].values  # Convert to NumPy array for model compatibility\n",
    "\n",
    "# Step 3: Set up the train-test split\n",
    "# test_size=0.2 means 20% of the data will be reserved for testing, while 80% will be used for training.\n",
    "# random_state=42 ensures reproducibility of the split, so that the same split is generated each time the code runs.\n",
    "X_train, X_test, y_train, y_test = train_test_split(X, y, test_size=0.2, random_state=42)\n"
   ]
  },
  {
   "cell_type": "code",
   "execution_count": 7,
   "id": "502c0d6a-2b2a-445f-94b4-95e67babde35",
   "metadata": {},
   "outputs": [],
   "source": [
    "# Define the neural network architecture for Speech Emotion Recognition (SER)\n",
    "class SERModel(nn.Module):\n",
    "    \n",
    "    # The initializer (__init__) sets up the layers and operations for the network.\n",
    "    def __init__(self, input_size, num_classes):\n",
    "        super(SERModel, self).__init__()\n",
    "        \n",
    "        # Takes 'input_size' as input features and maps to 128 neurons.\n",
    "        self.fc1 = nn.Linear(input_size, 128)\n",
    "        self.fc2 = nn.Linear(128, 64)\n",
    "        self.fc3 = nn.Linear(64, num_classes)\n",
    "        self.relu = nn.ReLU()\n",
    "        self.dropout = nn.Dropout(0.3)\n",
    "\n",
    "    # Define the forward pass, which outlines how data flows through the model layers.\n",
    "    def forward(self, x):\n",
    "        x = self.relu(self.fc1(x))\n",
    "        x = self.dropout(x)\n",
    "        x = self.relu(self.fc2(x))\n",
    "        x = self.dropout(x)\n",
    "        x = self.fc3(x)\n",
    "        \n",
    "        # Return the output of the network.\n",
    "        return x\n",
    "\n"
   ]
  },
  {
   "cell_type": "code",
   "execution_count": 8,
   "id": "fdb0cafb-0bd7-4893-9161-dc9ac848e2db",
   "metadata": {},
   "outputs": [],
   "source": [
    "# Convert numpy arrays to PyTorch tensors with appropriate data types\n",
    "X_train_tensor = torch.tensor(X_train, dtype=torch.float32)  # Convert training features to float tensor\n",
    "y_train_tensor = torch.tensor(y_train, dtype=torch.long)     # Convert training labels to long tensor for classification\n",
    "X_test_tensor = torch.tensor(X_test, dtype=torch.float32)    # Convert test features to float tensor\n",
    "y_test_tensor = torch.tensor(y_test, dtype=torch.long)       # Convert test labels to long tensor for classification\n",
    "\n",
    "# Create TensorDataset for training and testing data to handle features and labels together\n",
    "train_data = TensorDataset(X_train_tensor, y_train_tensor)\n",
    "test_data = TensorDataset(X_test_tensor, y_test_tensor)\n",
    "\n",
    "# Create DataLoaders for batch processing during training and testing\n",
    "train_loader = DataLoader(train_data, batch_size=32, shuffle=True)  # Shuffle training data\n",
    "test_loader = DataLoader(test_data, batch_size=32, shuffle=False)   # Do not shuffle test data\n",
    "\n"
   ]
  },
  {
   "cell_type": "code",
   "execution_count": 9,
   "id": "e0280e5c-6568-489a-82d9-f99733850526",
   "metadata": {},
   "outputs": [
    {
     "name": "stdout",
     "output_type": "stream",
     "text": [
      "Epoch [1/20], Loss: 1.8430\n",
      "Epoch [2/20], Loss: 1.6441\n",
      "Epoch [3/20], Loss: 1.7712\n",
      "Epoch [4/20], Loss: 1.7662\n",
      "Epoch [5/20], Loss: 1.9137\n",
      "Epoch [6/20], Loss: 2.9081\n",
      "Epoch [7/20], Loss: 1.7276\n",
      "Epoch [8/20], Loss: 1.9568\n",
      "Epoch [9/20], Loss: 1.7363\n",
      "Epoch [10/20], Loss: 1.5186\n",
      "Epoch [11/20], Loss: 1.7017\n",
      "Epoch [12/20], Loss: 1.3828\n",
      "Epoch [13/20], Loss: 0.9480\n",
      "Epoch [14/20], Loss: 1.7364\n",
      "Epoch [15/20], Loss: 1.9527\n",
      "Epoch [16/20], Loss: 0.9357\n",
      "Epoch [17/20], Loss: 1.2971\n",
      "Epoch [18/20], Loss: 1.0301\n",
      "Epoch [19/20], Loss: 4.2055\n",
      "Epoch [20/20], Loss: 1.9952\n",
      "Test Accuracy: 35.73%\n"
     ]
    }
   ],
   "source": [
    "# Model parameters\n",
    "input_size = X_train.shape[1]\n",
    "num_classes = len(le.classes_)\n",
    "\n",
    "# Initialize the model, loss function, and optimizer\n",
    "model = SERModel(input_size=input_size, num_classes=num_classes)\n",
    "criterion = nn.CrossEntropyLoss()\n",
    "optimizer = optim.Adam(model.parameters(), lr=0.001)\n",
    "\n",
    "# Training loop\n",
    "num_epochs = 20\n",
    "for epoch in range(num_epochs):\n",
    "    model.train()\n",
    "    for X_batch, y_batch in train_loader:\n",
    "        # Forward pass\n",
    "        outputs = model(X_batch)\n",
    "        loss = criterion(outputs, y_batch)\n",
    "        \n",
    "        # Backward pass and optimization\n",
    "        optimizer.zero_grad()\n",
    "        loss.backward()\n",
    "        optimizer.step()\n",
    "    \n",
    "    print(f\"Epoch [{epoch+1}/{num_epochs}], Loss: {loss.item():.4f}\")\n",
    "\n",
    "# Set the model to evaluation mode to disable dropout layers\n",
    "model.eval()\n",
    "\n",
    "# Disable gradient calculation for efficiency during evaluation\n",
    "with torch.no_grad():\n",
    "    correct = 0  # Initialize counter for correctly predicted samples\n",
    "    total = 0    # Initialize counter for total samples\n",
    "    \n",
    "    # Loop through each batch in the test DataLoader\n",
    "    for X_batch, y_batch in test_loader:\n",
    "        # Pass the batch of features through the model to get predictions\n",
    "        outputs = model(X_batch)\n",
    "        \n",
    "        # Get the predicted class by selecting the index with the maximum score for each sample\n",
    "        _, predicted = torch.max(outputs, 1)\n",
    "        \n",
    "        # Update the total count of samples\n",
    "        total += y_batch.size(0)\n",
    "        \n",
    "        # Count correct predictions by comparing with true labels and summing matches\n",
    "        correct += (predicted == y_batch).sum().item()\n",
    "    \n",
    "    # Calculate accuracy as a percentage of correct predictions out of total samples\n",
    "    accuracy = 100 * correct / total\n",
    "    print(f\"Test Accuracy: {accuracy:.2f}%\")"
   ]
  },
  {
   "cell_type": "code",
   "execution_count": 10,
   "id": "a5b98590-0fbc-472f-ae56-7efb8c480a18",
   "metadata": {},
   "outputs": [],
   "source": [
    "from sklearn.metrics import classification_report, confusion_matrix\n",
    "import seaborn as sns\n",
    "import matplotlib.pyplot as plt\n",
    "import numpy as np\n",
    "\n",
    "# Placeholder lists to store true and predicted labels\n",
    "y_true = []\n",
    "y_pred = []\n",
    "\n",
    "# Switch model to evaluation mode\n",
    "model.eval()\n",
    "with torch.no_grad():\n",
    "    for X_batch, y_batch in train_loader: \n",
    "        outputs = model(X_batch)\n",
    "        _, predicted = torch.max(outputs, 1)\n",
    "        \n",
    "        # Append true and predicted labels\n",
    "        y_true.extend(y_batch.cpu().numpy())\n",
    "        y_pred.extend(predicted.cpu().numpy())\n",
    "\n",
    "# Convert lists to numpy arrays\n",
    "y_true = np.array(y_true)\n",
    "y_pred = np.array(y_pred)"
   ]
  },
  {
   "cell_type": "code",
   "execution_count": 11,
   "id": "002cebcb-fedb-4055-9e49-9bc7a3f001c4",
   "metadata": {},
   "outputs": [
    {
     "name": "stdout",
     "output_type": "stream",
     "text": [
      "              precision    recall  f1-score   support\n",
      "\n",
      "         ANG       0.52      0.59      0.56      1036\n",
      "         DIS       0.24      0.01      0.01      1002\n",
      "         FEA       0.25      0.00      0.01      1032\n",
      "         HAP       0.26      0.27      0.27      1011\n",
      "         NEU       0.24      0.23      0.23       863\n",
      "         SAD       0.31      0.87      0.46      1009\n",
      "\n",
      "    accuracy                           0.33      5953\n",
      "   macro avg       0.30      0.33      0.26      5953\n",
      "weighted avg       0.31      0.33      0.26      5953\n",
      "\n"
     ]
    }
   ],
   "source": [
    "from sklearn.metrics import classification_report\n",
    "\n",
    "# Generate a classification report\n",
    "report = classification_report(y_true, y_pred, target_names=le.classes_)\n",
    "print(report)"
   ]
  },
  {
   "cell_type": "code",
   "execution_count": 12,
   "id": "75b5a600-8d3c-4454-aa08-17cc1a846067",
   "metadata": {},
   "outputs": [
    {
     "data": {
      "image/png": "[encoded data removed]",
      "text/plain": [
       "<Figure size 800x600 with 2 Axes>"
      ]
     },
     "metadata": {},
     "output_type": "display_data"
    }
   ],
   "source": [
    "# Generate a confusion matrix\n",
    "conf_matrix = confusion_matrix(y_true, y_pred)\n",
    "\n",
    "# Plot confusion matrix\n",
    "plt.figure(figsize=(8, 6))\n",
    "sns.heatmap(conf_matrix, annot=True, fmt=\"d\", cmap=\"Blues\", xticklabels=le.classes_, yticklabels=le.classes_)\n",
    "plt.xlabel(\"Predicted Label\")\n",
    "plt.ylabel(\"True Label\")\n",
    "plt.title(\"Confusion Matrix of Emotion Classification\")\n",
    "plt.show()"
   ]
  },
  {
   "cell_type": "code",
   "execution_count": null,
   "id": "3f80bedd-e5cc-4237-8384-e899dc84326a",
   "metadata": {},
   "outputs": [],
   "source": []
  }
 ],
 "metadata": {
  "kernelspec": {
   "display_name": "Python 3 (ipykernel)",
   "language": "python",
   "name": "python3"
  },
  "language_info": {
   "codemirror_mode": {
    "name": "ipython",
    "version": 3
   },
   "file_extension": ".py",
   "mimetype": "text/x-python",
   "name": "python",
   "nbconvert_exporter": "python",
   "pygments_lexer": "ipython3",
   "version": "3.12.3"
  }
 },
 "nbformat": 4,
 "nbformat_minor": 5
}
